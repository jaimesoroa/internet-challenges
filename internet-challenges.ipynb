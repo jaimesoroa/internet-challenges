{
 "cells": [
  {
   "cell_type": "code",
   "execution_count": 1,
   "metadata": {},
   "outputs": [],
   "source": [
    "import numpy as np\n",
    "import pandas as pd\n",
    "from icecream import ic"
   ]
  },
  {
   "cell_type": "code",
   "execution_count": 2,
   "metadata": {},
   "outputs": [
    {
     "name": "stdout",
     "output_type": "stream",
     "text": [
      "--------------h--------------\n",
      "------------h-g-h------------\n",
      "----------h-g-f-g-h----------\n",
      "--------h-g-f-e-f-g-h--------\n",
      "------h-g-f-e-d-e-f-g-h------\n",
      "----h-g-f-e-d-c-d-e-f-g-h----\n",
      "--h-g-f-e-d-c-b-c-d-e-f-g-h--\n",
      "h-g-f-e-d-c-b-a-b-c-d-e-f-g-h\n",
      "--h-g-f-e-d-c-b-c-d-e-f-g-h--\n",
      "----h-g-f-e-d-c-d-e-f-g-h----\n",
      "------h-g-f-e-d-e-f-g-h------\n",
      "--------h-g-f-e-f-g-h--------\n",
      "----------h-g-f-g-h----------\n",
      "------------h-g-h------------\n",
      "--------------h--------------\n",
      "\n"
     ]
    }
   ],
   "source": [
    "# Hacker Rank print_rangoli challenge\n",
    "def print_rangoli(size):\n",
    "    import string\n",
    "    # Number of rows and columns depending of size\n",
    "    rows = 2 * size - 1\n",
    "    cols = 2 * rows - 1\n",
    "    # Get alphabet\n",
    "    alph = string.ascii_lowercase\n",
    "    # Initialize strings of letters with '-'\n",
    "    alph_ord = ''\n",
    "    alph_inv = ''\n",
    "    # Create the strings\n",
    "    for i in range(len(alph)-1):\n",
    "        alph_ord += alph[i]+'-'\n",
    "        alph_inv += alph[-i-1]+'-'\n",
    "    # Create the long string (from z to a to z) that will be the basis to all other shorter strings\n",
    "    long_alph = alph_inv + alph_ord + 'z'\n",
    "    # Create the string according to size\n",
    "    long_string = long_alph[(50-(size*2)+2):(50+(size*2)-1)]\n",
    "    rangoli = ''\n",
    "    # Generate each row\n",
    "    for row in range(rows):\n",
    "        if row < size:\n",
    "            # Slize string to get only the parts needed, for the first half\n",
    "            string_1 = long_string[0:(row*2+1)]\n",
    "            string_2 = long_string[(cols-(row*2)):cols]\n",
    "            rangoli += (((size-1)*2 - (row * 2)) * \"-\")+string_1+string_2+(((size-1)*2 - (row * 2)) * \"-\")+'\\n'\n",
    "        else:\n",
    "            # Slize string to get only the parts needed, for the last half\n",
    "            string_1 = long_string[0:((rows-row-1)*2+1)]\n",
    "            string_2 = long_string[(cols-((rows-row-1)*2)):cols]\n",
    "            rangoli += (((size-1)*2 - (row * 2)) * (-1) * \"-\")+string_1+string_2+(((size-1)*2 - (row * 2)) * (-1) * \"-\")+'\\n'\n",
    "    print(rangoli)\n",
    "    return None\n",
    "print_rangoli(8)"
   ]
  },
  {
   "cell_type": "code",
   "execution_count": 20,
   "metadata": {},
   "outputs": [
    {
     "name": "stdout",
     "output_type": "stream",
     "text": [
      "[2, 4, 6, 4, 8, 10, 0, 0, 0, 0]\n"
     ]
    }
   ],
   "source": [
    "# Codewars Moving Zeros To The End\n",
    "\n",
    "lst = [0, 2, 4, 0, 6, 4, 0, 8, 10, 0]\n",
    "def move_zeros(lst):\n",
    "    if 0 in lst:\n",
    "        count = lst.count(0)\n",
    "        for i in range(count):\n",
    "            lst.remove(0)\n",
    "            lst.append(0)\n",
    "        return lst\n",
    "    else:\n",
    "        return lst\n",
    "\n",
    "new_lst = move_zeros(lst)\n",
    "print(new_lst)"
   ]
  },
  {
   "cell_type": "code",
   "execution_count": 25,
   "metadata": {},
   "outputs": [
    {
     "data": {
      "text/plain": [
       "False"
      ]
     },
     "execution_count": 25,
     "metadata": {},
     "output_type": "execute_result"
    }
   ],
   "source": [
    "# Codewars Not very secure\n",
    "\n",
    "txt = \"Company12{}\"\n",
    "\n",
    "def alphanumeric(password):\n",
    "    return password.isalnum()\n",
    "\n",
    "alphanumeric(txt)"
   ]
  },
  {
   "cell_type": "code",
   "execution_count": 39,
   "metadata": {},
   "outputs": [
    {
     "name": "stdout",
     "output_type": "stream",
     "text": [
      "29\n"
     ]
    }
   ],
   "source": [
    "# Codewars Can you get the loop ?\n",
    "\n",
    "# Create the class to try with nodes\n",
    "\n",
    "class Node:\n",
    "  def __init__(self, data = \"\", next = None):\n",
    "    self.data = data\n",
    "    self.next = next\n",
    "\n",
    "# First trial, make a short chain with a loop of 3\n",
    "node1 = Node()\n",
    "node2 = Node()\n",
    "node3 = Node()\n",
    "node4 = Node()\n",
    "node1.next = node2\n",
    "node2.next = node3\n",
    "node3.next = node4\n",
    "node4.next = node2\n",
    "\n",
    "# Second trial, make a longer chain with a loop of 29\n",
    "nodes = [Node() for _ in range(50)]\n",
    "for node, next_node in zip(nodes, nodes[1:]):\n",
    "    node.next = next_node\n",
    "nodes[49].next = nodes[21]\n",
    "\n",
    "# Solution:\n",
    "\n",
    "def loop_size(node):\n",
    "    node_1 = node\n",
    "    node_2 = node.next\n",
    "    while(node_1 != node_2):\n",
    "        node_2 = node_2.next.next\n",
    "        node_1 = node_1.next\n",
    "    node_1 = node_1.next\n",
    "    size = 1\n",
    "    while(node_1 != node_2):\n",
    "        size += 1\n",
    "        node_1 = node_1.next\n",
    "    return size\n",
    "\n",
    "# Trial\n",
    "print(loop_size(nodes[0]))\n",
    "\n"
   ]
  }
 ],
 "metadata": {
  "kernelspec": {
   "display_name": "Python 3",
   "language": "python",
   "name": "python3"
  },
  "language_info": {
   "codemirror_mode": {
    "name": "ipython",
    "version": 3
   },
   "file_extension": ".py",
   "mimetype": "text/x-python",
   "name": "python",
   "nbconvert_exporter": "python",
   "pygments_lexer": "ipython3",
   "version": "3.10.6"
  },
  "orig_nbformat": 4,
  "vscode": {
   "interpreter": {
    "hash": "313f07d485c5fd7b1e18f965fb3f553250d67dee8c5475d0490b451a601fd224"
   }
  }
 },
 "nbformat": 4,
 "nbformat_minor": 2
}
